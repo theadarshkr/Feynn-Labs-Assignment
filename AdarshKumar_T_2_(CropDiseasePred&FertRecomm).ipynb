{
  "nbformat": 4,
  "nbformat_minor": 0,
  "metadata": {
    "colab": {
      "provenance": [],
      "authorship_tag": "ABX9TyP3qIpLws6QPghpMfywqpPf",
      "include_colab_link": true
    },
    "kernelspec": {
      "name": "python3",
      "display_name": "Python 3"
    },
    "language_info": {
      "name": "python"
    }
  },
  "cells": [
    {
      "cell_type": "markdown",
      "metadata": {
        "id": "view-in-github",
        "colab_type": "text"
      },
      "source": [
        "<a href=\"https://colab.research.google.com/github/theadarshkr/Feynn-Labs-Assignment/blob/main/AdarshKumar_T_2_(CropDiseasePred%26FertRecomm).ipynb\" target=\"_parent\"><img src=\"https://colab.research.google.com/assets/colab-badge.svg\" alt=\"Open In Colab\"/></a>"
      ]
    },
    {
      "cell_type": "code",
      "execution_count": 1,
      "metadata": {
        "id": "HGIQ1Gav8NtG"
      },
      "outputs": [],
      "source": [
        "#Importing the necessary libraries\n",
        "import numpy as np\n",
        "import pandas as pd\n",
        "import matplotlib.pyplot as plt\n",
        "import os\n",
        "import cv2\n",
        "from sklearn.model_selection import train_test_split\n",
        "from sklearn.svm import SVC\n",
        "from sklearn.metrics import accuracy_score, confusion_matrix, classification_report\n",
        "from sklearn.preprocessing import LabelEncoder\n",
        "import tensorflow as tf\n",
        "from tensorflow.keras.models import Sequential, Model\n",
        "from tensorflow.keras.layers import Conv2D, MaxPooling2D, Flatten, Dense, Dropout\n",
        "from tensorflow.keras.preprocessing.image import ImageDataGenerator\n",
        "from tensorflow.keras.callbacks import EarlyStopping, ModelCheckpoint, TensorBoard"
      ]
    },
    {
      "cell_type": "code",
      "source": [
        "#Installing the Kaggle library\n",
        "!pip install kaggle\n",
        "\n",
        "#Importing the Kaggle API key file\n",
        "from google.colab import files\n",
        "files.upload()  #Uploading our Kaggle API key file i.e. kaggle.json\n",
        "\n",
        "#Moving the Kaggle API key file to the appropriate location\n",
        "!mkdir ~/.kaggle\n",
        "!cp kaggle.json ~/.kaggle/\n",
        "\n",
        "#Setting permissions for the Kaggle API key file\n",
        "!chmod 600 ~/.kaggle/kaggle.json\n",
        "\n",
        "#Downloading the dataset using the Kaggle API\n",
        "!kaggle datasets download -d vipoooool/new-plant-diseases-dataset\n",
        "\n",
        "#Unzipping the downloaded file\n",
        "!unzip new-plant-diseases-dataset.zip\n",
        "\n",
        "#Defining directories\n",
        "train_dir = \"/content/New Plant Diseases Dataset(Augmented)/New Plant Diseases Dataset(Augmented)/train\"\n",
        "valid_dir = \"/content/New Plant Diseases Dataset(Augmented)/New Plant Diseases Dataset(Augmented)/valid\"\n",
        "test_dir = \"/content/test/test\"\n",
        "\n",
        "#Loading training data\n",
        "train_datagen = ImageDataGenerator(rescale=1./255)\n",
        "train_generator = train_datagen.flow_from_directory(\n",
        "        train_dir,\n",
        "        target_size=(224, 224),\n",
        "        batch_size=32,\n",
        "        class_mode='categorical')\n",
        "\n",
        "#Loading validation data\n",
        "valid_datagen = ImageDataGenerator(rescale=1./255)\n",
        "valid_generator = valid_datagen.flow_from_directory(\n",
        "        valid_dir,\n",
        "        target_size=(224, 224),\n",
        "        batch_size=32,\n",
        "        class_mode='categorical')\n",
        "\n",
        "#Loading test data\n",
        "test_datagen = ImageDataGenerator(rescale=1./255)\n",
        "test_generator = test_datagen.flow_from_directory(\n",
        "        test_dir,\n",
        "        target_size=(224, 224),\n",
        "        batch_size=32,\n",
        "        class_mode='categorical')\n",
        "\n",
        "#Retrieving class labels\n",
        "class_labels = list(train_generator.class_indices.keys())"
      ],
      "metadata": {
        "id": "_M850_VM8Xv3"
      },
      "execution_count": null,
      "outputs": []
    },
    {
      "cell_type": "code",
      "source": [
        "#Defining the CNN model\n",
        "model = Sequential()\n",
        "model.add(Conv2D(32, (3, 3), activation=\"relu\", input_shape=(224, 224, 3)))\n",
        "model.add(MaxPooling2D((2, 2)))\n",
        "model.add(Conv2D(64, (3, 3), activation=\"relu\"))\n",
        "model.add(MaxPooling2D((2, 2)))\n",
        "model.add(Conv2D(128, (3, 3), activation=\"relu\"))\n",
        "model.add(MaxPooling2D((2, 2)))\n",
        "model.add(Flatten())\n",
        "model.add(Dense(256, activation=\"relu\"))\n",
        "model.add(Dropout(0.5))\n",
        "model.add(Dense(len(class_labels), activation=\"softmax\"))\n",
        "\n",
        "#Compiling the model\n",
        "model.compile(optimizer=\"adam\", loss=\"categorical_crossentropy\", metrics=[\"accuracy\"])\n",
        "\n",
        "#Defining callbacks\n",
        "es = EarlyStopping(monitor=\"val_loss\", patience=10, restore_best_weights=True)\n",
        "mc = ModelCheckpoint(\"best_model.h5\", monitor=\"val_loss\", save_best_only=True)\n",
        "tb = TensorBoard(log_dir=\"logs\")\n",
        "\n",
        "#Training the model\n",
        "history = model.fit(\n",
        "    train_generator,\n",
        "    epochs=50,\n",
        "    validation_data=valid_generator,\n",
        "    callbacks=[es, mc, tb]\n",
        ")\n",
        "\n",
        "#Evaluating the model on the test data\n",
        "test_loss, test_accuracy = model.evaluate(test_generator)\n",
        "print(\"Test Accuracy:\", test_accuracy)\n"
      ],
      "metadata": {
        "colab": {
          "base_uri": "https://localhost:8080/"
        },
        "id": "p4UXMyZnAVfU",
        "outputId": "e97ca641-21c3-4a3a-a69f-a59db9651aa6"
      },
      "execution_count": null,
      "outputs": [
        {
          "output_type": "stream",
          "name": "stdout",
          "text": [
            "Epoch 1/50\n",
            "2197/2197 [==============================] - ETA: 0s - loss: 1.5641 - accuracy: 0.5442"
          ]
        },
        {
          "output_type": "stream",
          "name": "stderr",
          "text": [
            "/usr/local/lib/python3.10/dist-packages/keras/src/engine/training.py:3103: UserWarning: You are saving your model as an HDF5 file via `model.save()`. This file format is considered legacy. We recommend using instead the native Keras format, e.g. `model.save('my_model.keras')`.\n",
            "  saving_api.save_model(\n"
          ]
        },
        {
          "output_type": "stream",
          "name": "stdout",
          "text": [
            "\b\b\b\b\b\b\b\b\b\b\b\b\b\b\b\b\b\b\b\b\b\b\b\b\b\b\b\b\b\b\b\b\b\b\b\b\b\b\b\b\b\b\b\b\b\b\b\b\b\b\b\b\b\b\b\b\b\b\b\b\b\b\b\b\b\b\b\b\b\b\b\b\b\b\b\b\b\b\b\b\b\b\b\b\b\b\r2197/2197 [==============================] - 9106s 4s/step - loss: 1.5641 - accuracy: 0.5442 - val_loss: 0.5936 - val_accuracy: 0.8120\n",
            "Epoch 2/50\n",
            " 163/2197 [=>............................] - ETA: 2:08:50 - loss: 0.7475 - accuracy: 0.7665"
          ]
        }
      ]
    },
    {
      "cell_type": "code",
      "source": [
        "#Extracting features from the last convolutional layer of the CNN model\n",
        "feature_model = Model(inputs=model.input, outputs=model.layers[-4].output)\n",
        "\n",
        "#Extracting features from training and validation sets\n",
        "X_train_features = feature_model.predict(train_generator)\n",
        "X_val_features = feature_model.predict(valid_generator)\n",
        "\n",
        "#Reshaping features to a 2D array\n",
        "X_train_features = np.reshape(X_train_features, (len(X_train_features), -1))\n",
        "X_val_features = np.reshape(X_val_features, (len(X_val_features), -1))\n",
        "\n",
        "#Creating and train the SVM model\n",
        "svm = SVC(kernel=\"rbf\", C=1.0, gamma=\"scale\")\n",
        "svm.fit(X_train_features, train_generator.classes)\n",
        "\n",
        "#Evaluating the SVM model on the validation set\n",
        "y_val_pred = svm.predict(X_val_features)\n",
        "print(\"Accuracy:\", accuracy_score(valid_generator.classes, y_val_pred))\n",
        "print(\"Confusion matrix:\\n\", confusion_matrix(valid_generator.classes, y_val_pred))\n",
        "print(\"Classification report:\\n\", classification_report(valid_generator.classes, y_val_pred))"
      ],
      "metadata": {
        "id": "jSi15DacAu1n"
      },
      "execution_count": null,
      "outputs": []
    },
    {
      "cell_type": "markdown",
      "source": [
        "**Fertilizer Recommendation**"
      ],
      "metadata": {
        "id": "dbeMwH81BjJ8"
      }
    },
    {
      "cell_type": "code",
      "source": [
        "#Defining the dictionary mapping diseases to fertilizers and dosages\n",
        "fertilizer_dict = {\n",
        " \"Apple___Apple_scab\": (\"Urea\", \"0.5 kg per tree\"),\n",
        " \"Apple___Black_rot\": (\"Bordeaux mixture\", \"1.5 kg per 100 liters of water\"),\n",
        " \"Apple___Cedar_apple_rust\": (\"Mancozeb\", \"2.5 kg per hectare\"),\n",
        " \"Apple___healthy\": (\"None\", \"None\"),\n",
        " \"Blueberry___healthy\": (\"None\", \"None\"),\n",
        " \"Cherry_(including_sour)___healthy\": (\"None\", \"None\"),\n",
        " \"Cherry_(including_sour)___Powdery_mildew\": (\"Sulfur\", \"3 kg per hectare\"),\n",
        " \"Corn_(maize)___Cercospora_leaf_spot Gray_leaf_spot\": (\"Azoxystrobin\", \"0.5 liter per hectare\"),\n",
        " \"Corn_(maize)___Common_rust_\": (\"Propiconazole\", \"1 liter per hectare\"),\n",
        " \"Corn_(maize)___healthy\": (\"None\", \"None\"),\n",
        " \"Corn_(maize)___Northern_Leaf_Blight\": (\"Pyraclostrobin\", \"0.75 liter per hectare\"),\n",
        " \"Grape___Black_rot\": (\"Copper hydroxide\", \"2 kg per hectare\"),\n",
        " \"Grape___Esca_(Black_Measles)\": (\"Potassium bicarbonate\", \"5 kg per hectare\"),\n",
        " \"Grape___healthy\": (\"None\", \"None\"),\n",
        " \"Grape___Leaf_blight_(Isariopsis_Leaf_Spot)\": (\"Chlorothalonil\", \"2.5 kg per hectare\")\n",
        "}\n",
        "#Defining the function to recommend fertilizer based on the predicted disease label\n",
        "def recommend_fertilizer(label):\n",
        "    if label in fertilizer_dict:\n",
        "        return fertilizer_dict[label]\n",
        "    elif label == \"Healthy\":\n",
        "        return \"None\", \"None\"\n",
        "    else:\n",
        "        return \"Unknown\", \"Unknown\"\n",
        "\n",
        "#Getting predictions on the test data\n",
        "predictions = model.predict(test_generator)\n",
        "predicted_labels = np.argmax(predictions, axis=1)\n",
        "\n",
        "#Recommending fertilizer for each predicted label\n",
        "for i, label_idx in enumerate(predicted_labels):\n",
        "    label = class_labels[label_idx]\n",
        "    fertilizer, dosage = recommend_fertilizer(label)\n",
        "    print(f\"For test image {test_generator.filenames[i]}, the predicted disease is {label}.\")\n",
        "    print(f\"The recommended fertilizer is {fertilizer} and the dosage is {dosage}.\")"
      ],
      "metadata": {
        "id": "fd20zcAlBKQM"
      },
      "execution_count": null,
      "outputs": []
    }
  ]
}